{
 "cells": [
  {
   "cell_type": "code",
   "execution_count": 3,
   "metadata": {},
   "outputs": [],
   "source": [
    "import pickle\n",
    "import random\n",
    "\n",
    "import torch\n",
    "import torch.nn as nn\n",
    "from torch.utils.data import DataLoader\n",
    "import numpy as np\n",
    "\n",
    "from recipedataset import RecipeDataset, RECIPE_DATASET_FILENAME, NUM_GRAIN_SLOTS, NUM_ADJUNCT_SLOTS, NUM_HOP_SLOTS, NUM_MISC_SLOTS, NUM_MICROORGANISM_SLOTS, NUM_FERMENT_STAGE_SLOTS, NUM_MASH_STEPS\n",
    "\n",
    "RANDOM_SEED = 42\n",
    "random.seed(RANDOM_SEED)\n",
    "np.random.seed(RANDOM_SEED)\n",
    "torch.manual_seed(RANDOM_SEED)\n",
    "torch.backends.cudnn.deterministic = True\n",
    "\n",
    "def layer_init_ortho(layer, std=np.sqrt(2)):\n",
    "  nn.init.orthogonal_(layer.weight, std)\n",
    "  nn.init.constant_(layer.bias, 0.0)\n",
    "  return layer\n",
    "\n",
    "def layer_init_xavier(layer, gain):\n",
    "  nn.init.xavier_normal_(layer.weight, gain)\n",
    "  nn.init.constant_(layer.bias, 0.0)\n",
    "  return layer\n",
    "\n",
    "def reparameterize(mu, logvar):\n",
    "  std = torch.exp(0.5 * logvar)\n",
    "  eps = torch.randn_like(std)\n",
    "  return eps * std + mu"
   ]
  },
  {
   "cell_type": "code",
   "execution_count": 4,
   "metadata": {},
   "outputs": [],
   "source": [
    "BATCH_SIZE = 256\n",
    "\n",
    "# Load the dataset and create a dataloader for it\n",
    "with open(\"../\" + RECIPE_DATASET_FILENAME, 'rb') as f:\n",
    "  dataset = pickle.load(f)\n",
    "dataloader = DataLoader(dataset, batch_size=BATCH_SIZE, shuffle=True, num_workers=0)"
   ]
  },
  {
   "cell_type": "code",
   "execution_count": 6,
   "metadata": {},
   "outputs": [
    {
     "name": "stdout",
     "output_type": "stream",
     "text": [
      "5899\n"
     ]
    }
   ],
   "source": [
    "# Determine the number of inputs to the network...\n",
    "\n",
    "GRAIN_TYPE_EMBED_SIZE         = 32\n",
    "ADJUNCT_TYPE_EMBED_SIZE       = 32\n",
    "HOP_TYPE_EMBED_SIZE           = 96\n",
    "MISC_TYPE_EMBED_SIZE          = 64\n",
    "MICROORGANISM_TYPE_EMBED_SIZE = 64\n",
    "\n",
    "# (boil_time + mash_ph + sparge_temp)\n",
    "num_simple_inputs = 3 \n",
    "# Mash steps (step_type_index_size + step_time + step_temp) * (number of slots) - ordering assumed [0: step 1, 1: step 2, etc.]\n",
    "num_mash_step_inputs = NUM_MASH_STEPS*(len(dataset.mash_step_idx_to_name) + 2)\n",
    "# Fermentation stages (step_time + step_temp) * (number of stages) - ordering assumed [0: primary, 1: secondary]\n",
    "num_ferment_step_inputs = NUM_FERMENT_STAGE_SLOTS*(2)\n",
    "# Grain/Malt bill slots (grain_type_embed_size + amount) * (number of slots) - no ordering\n",
    "num_grain_slot_inputs = NUM_GRAIN_SLOTS*(GRAIN_TYPE_EMBED_SIZE + 1)\n",
    "# Adjunct slots (adjunct_type_embed_size + amount) * (number of slots) - no ordering\n",
    "num_adjunct_slot_inputs = NUM_ADJUNCT_SLOTS*(ADJUNCT_TYPE_EMBED_SIZE + 1)\n",
    "# Hop slots (hop_type_embed_size + stage_type_index_size + time + concentration) * (number of slots) - no ordering\n",
    "num_hop_slot_inputs = NUM_HOP_SLOTS*(HOP_TYPE_EMBED_SIZE + len(dataset.hop_stage_idx_to_name) + 2)\n",
    "# Misc. slots (misc_type_embed_size + stage_type_index_size + time + amounts) * (number of slots) - no ordering\n",
    "num_misc_slot_inputs = NUM_MISC_SLOTS*(MISC_TYPE_EMBED_SIZE + len(dataset.misc_stage_idx_to_name) + 2)\n",
    "# Microorganism slots (mo_type_embed_size + stage_type_index_size) * (number of slots) - no ordering\n",
    "num_mo_slot_inputs = NUM_MICROORGANISM_SLOTS*(MICROORGANISM_TYPE_EMBED_SIZE + len(dataset.mo_stage_idx_to_name))\n",
    "\n",
    "num_inputs = num_simple_inputs + num_mash_step_inputs + num_ferment_step_inputs + num_grain_slot_inputs + \\\n",
    "             num_adjunct_slot_inputs + num_hop_slot_inputs + num_misc_slot_inputs + num_mo_slot_inputs\n",
    "print(num_inputs)"
   ]
  },
  {
   "cell_type": "code",
   "execution_count": null,
   "metadata": {},
   "outputs": [],
   "source": [
    "\n",
    "\n",
    "\n",
    "class RecipeVAE(nn.Module):\n",
    "  \n",
    "  def __init__(\n",
    "    self, \n",
    "    num_inputs:int, num_hidden_layers:int, hidden_size:int, z_size:int, \n",
    "    activation_fn=nn.ELU(), \n",
    "    gain=nn.init.calculate_gain('linear')\n",
    "  ) -> None:\n",
    "    \n",
    "    super().__init__()\n",
    "    assert num_inputs >= 1\n",
    "    assert num_hidden_layers >= 1\n",
    "    assert hidden_size >= 1\n",
    "    assert z_size >= 1 and z_size < num_inputs\n",
    "    \n",
    "    #LEAKY_RELU_SLOPE = 0.1\n",
    "    z_sizex2 = z_size*2\n",
    "\n",
    "    self.encoder = nn.ModuleList()\n",
    "    self.encoder.append(layer_init_xavier(nn.Linear(num_inputs, hidden_size), gain))\n",
    "    self.encoder.append(activation_fn)\n",
    "    \n",
    "    \n",
    "    for _ in range(1, num_hidden_layers):\n",
    "      self.encoder.append(layer_init_xavier(nn.Linear(hidden_size, hidden_size), gain))\n",
    "      self.encoder.append(activation_fn)\n",
    "      \n",
    "    self.encoder.append(layer_init_xavier(nn.Linear(hidden_size, z_sizex2), gain))\n",
    "    self.encoder.append(activation_fn(inplace=True))\n",
    "    self.encoder.append(nn.BatchNorm1d(z_sizex2))\n",
    "\n",
    "    self.decoder = nn.ModuleList([\n",
    "      \n",
    "    ])\n",
    "    \n",
    "    #enc1 = layer_init_xavier(nn.Linear(NUM_GRAIN_SLOTS, HIDDEN_SIZE), 'leaky_relu', LEAKY_RELU_SLOPE)\n",
    "    #enc2 = layer_init_xavier(nn.Linear(HIDDEN_SIZE, 2*Z_SIZE), 'linear')\n",
    "    #dec1 = layer_init_xavier(nn.Linear(Z_SIZE, HIDDEN_SIZE), 'leaky_relu', LEAKY_RELU_SLOPE)\n",
    "    #dec2 = layer_init_xavier(nn.Linear(HIDDEN_SIZE, NUM_GRAIN_SLOTS), 'tanh')\n",
    "    \n",
    "    \n",
    "    \n",
    "  def forward(self, x):\n",
    "    pass\n",
    "  \n",
    "\n",
    "\n",
    "  \n",
    "  "
   ]
  }
 ],
 "metadata": {
  "kernelspec": {
   "display_name": "Python 3.10.6 ('brewbrain')",
   "language": "python",
   "name": "python3"
  },
  "language_info": {
   "codemirror_mode": {
    "name": "ipython",
    "version": 3
   },
   "file_extension": ".py",
   "mimetype": "text/x-python",
   "name": "python",
   "nbconvert_exporter": "python",
   "pygments_lexer": "ipython3",
   "version": "3.10.6"
  },
  "orig_nbformat": 4,
  "vscode": {
   "interpreter": {
    "hash": "bf149ef9249c8031bd8b677d42c7b958c45095f85a0c42a709c15a6e71aa8835"
   }
  }
 },
 "nbformat": 4,
 "nbformat_minor": 2
}
