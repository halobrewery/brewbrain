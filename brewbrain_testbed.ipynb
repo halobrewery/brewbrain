{
 "cells": [
  {
   "cell_type": "code",
   "execution_count": 298,
   "id": "71e7dc88",
   "metadata": {
    "tags": []
   },
   "outputs": [],
   "source": [
    "import os\n",
    "import csv\n",
    "import re\n",
    "import matplotlib.pyplot as plt\n",
    "import numpy as np\n",
    "\n",
    "from pybeerxml.parser import Parser"
   ]
  },
  {
   "cell_type": "code",
   "execution_count": 299,
   "id": "3e5dc67d-c003-45d9-8727-33c13d76554f",
   "metadata": {
    "tags": []
   },
   "outputs": [],
   "source": [
    "# Create a yeast name-to-id system\n",
    "from yeast_names import build_yeast_dicts\n",
    "yeast_name_to_id, brand_to_ids, id_to_yeast_names = build_yeast_dicts()"
   ]
  },
  {
   "cell_type": "code",
   "execution_count": null,
   "id": "59d049d9",
   "metadata": {
    "tags": []
   },
   "outputs": [],
   "source": [
    "ogs = []\n",
    "fgs = []\n",
    "yeasts = set()\n",
    "malts = set()\n",
    "\n",
    "parser = Parser()\n",
    "#dir_count = 0\n",
    "valid_file_count = 0\n",
    "\n",
    "def clean_replace(s, target):\n",
    "    return s.replace(target, '').replace(\"  \", \" \").strip()\n",
    "\n",
    "for dirpath, dirnames, files in os.walk('./data/_matched'):\n",
    "    #if dir_count < 100: \n",
    "    #    dir_count += 1\n",
    "    #    continue\n",
    "    #dir_count += 1\n",
    "    \n",
    "    for file_name in files:\n",
    "        file_path = str(os.path.join(dirpath, file_name))\n",
    "        try:\n",
    "            recipes = parser.parse(file_path)\n",
    "        except:\n",
    "            print(\"Erroneous file found, removing: \" + file_path)\n",
    "            os.remove(file_path)\n",
    "            continue\n",
    "        \n",
    "        recipe_valid = False\n",
    "        for recipe in recipes:\n",
    "            ogs.append(recipe.og)\n",
    "            fgs.append(recipe.fg)\n",
    "\n",
    "            for y in recipe.yeasts:\n",
    "\n",
    "                if not isinstance(y.name, str):\n",
    "                    # Try turning the name into a code (likely a wyeast strain)...\n",
    "                    yeast_name = str(int(y.name))\n",
    "                else:\n",
    "                    yeast_name = y.name.lower()\n",
    "                    # Some basic clean-up to start...\n",
    "                    if \"conan\" in yeast_name: yeast_name = \"vermont ale\"\n",
    "                    elif \"super high gravity\" in yeast_name or \"wlp 099\" in yeast_name: yeast_name = \"super high gravity ale\"\n",
    "                    elif \"super yeast\" in yeast_name: yeast_name = \"san diego super\"\n",
    "                    elif \"chico\" in yeast_name: yeast_name = \"chico ale\"\n",
    "                    elif \"orval\" in yeast_name: yeast_name = \"brettanomyces bruxellensis\"\n",
    "                    elif \"duvel\" in yeast_name: yeast_name = \"belgian golden ale\"\n",
    "                    elif \"dupont\" in yeast_name: yeast_name = \"french saison ale\"\n",
    "                    else:\n",
    "                        # Clean up any spelling mistakes, ordering\n",
    "                        yeast_name = yeast_name.replace(\"kรถlsch\",\"kolsch\").replace(\"kรถlsh\",\"kolsch\").replace(\"kölsh\",\"kolsch\")\n",
    "                        yeast_name = yeast_name.replace(\"monastery\",\"monastary\").replace(\"monestary\",\"monastary\")\n",
    "                        yeast_name = yeast_name.replace(\"california v ale\", \"california ale v\")\n",
    "                        yeast_name = yeast_name.replace(\"mã©lange\",\"melange\").replace(\"brettâ€™\",\"brett\") \\\n",
    "                            .replace(\"cã´te\",\"cote\").replace(\"munuch\",\"munich\").replace(\"lellemand\",\"lallemand\") \\\n",
    "                            .replace(\"champagene\", \"champagne\").replace(\"vemont\",\"vermont\")\n",
    "\n",
    "                if yeast_name not in yeast_name_to_id:\n",
    "                    # First attempt: Try to find a yeast code to match\n",
    "                    s = re.search(r\"(inis\\-|wlp|us\\-|([kwst]|oyl|bry)\\-|[mg]|\\d+/)\\s?\\-?(\\d+(/\\d+)?)\", yeast_name, flags=re.IGNORECASE)\n",
    "                    if s != None and len(s.group()) > 0:\n",
    "                        # We have a potential yeast product id...\n",
    "                        product_id = s.group().replace(\"--\",\"-\").replace(\" \",\"\")\n",
    "                        if product_id not in yeast_name_to_id:\n",
    "                            pass\n",
    "                            #print(f\"Product id {product_id} not found for {yeast_name}, file: {file_path}\")\n",
    "                        else:\n",
    "                            continue\n",
    "\n",
    "                    # Try removing the word \"yeast\" (and watch out for any double spaces that may ensue)\n",
    "                    if clean_replace(yeast_name, \"yeast\") in yeast_name_to_id:\n",
    "                        continue\n",
    "                    # Try replacing \"yeast\" with \"ale\" or \"lager\"\n",
    "                    if yeast_name.replace(\"yeast\", \"ale\") in yeast_name_to_id or yeast_name.replace(\"yeast\", \"lager\") in yeast_name_to_id:\n",
    "                        continue\n",
    "                    # Try adding \"ale\" or \"blend\" or \"lager\" to the end\n",
    "                    if yeast_name+\" ale\" in yeast_name_to_id or yeast_name+\" lager\" in yeast_name_to_id or yeast_name+\" blend\" in yeast_name_to_id:\n",
    "                        continue\n",
    "\n",
    "                    # Check for a wyeast code (4 digit code)\n",
    "                    s = re.search(r\"(\\d{4})(\\D+|$)\", yeast_name, flags=re.IGNORECASE)\n",
    "                    if s != None and len(s.group(1)) > 0:\n",
    "                        product_id = s.group(1)\n",
    "                        if product_id in yeast_name_to_id:\n",
    "                            continue\n",
    "\n",
    "                    # Try to match the brand name first and then try to figure out\n",
    "                    # which yeast we're dealing with within that brand \n",
    "                    for brand_name, ids in brand_to_ids.items():\n",
    "                        s = re.search(brand_name, yeast_name, flags=re.IGNORECASE)\n",
    "                        if s != None and len(s.group()) > 0:\n",
    "                            # Find the best possible match\n",
    "                            best_match_count = 0\n",
    "                            best_match_id = -1\n",
    "                            for id in ids:\n",
    "                                count = 0\n",
    "                                potential_yeast_names = id_to_yeast_names[id]\n",
    "                                for name in potential_yeast_names:\n",
    "                                    s = re.search(name, yeast_name, flags=re.IGNORECASE)\n",
    "                                    if s != None: count += 1\n",
    "                                if count > best_match_count:\n",
    "                                    best_match_count = count\n",
    "                                    best_match_id = id\n",
    "                            if best_match_id == -1:\n",
    "                                # Just choose the first id...\n",
    "                                assert len(ids) > 0\n",
    "                                best_match_id = ids[0]\n",
    "                                yeast_name = id_to_yeast_names[best_match_id][0]\n",
    "                            else:\n",
    "                                pass\n",
    "                                #print(f\"Found a brand-based match for '{yeast_name}', with brand '{brand_name}', and names: {id_to_yeast_names[best_match_id]}\")\n",
    "\n",
    "                            break\n",
    "\n",
    "\n",
    "                    # Last attempt - try to match any of the ids directly with the yeast name string\n",
    "                    found = False\n",
    "                    best_len = 0\n",
    "                    best_name = \"\"\n",
    "                    for dict_name in yeast_name_to_id:\n",
    "                        name_opts = f\"({dict_name}|{clean_replace(dict_name, 'ale')}|{clean_replace(dict_name,'lager')})\"\n",
    "                        s = re.search(name_opts, yeast_name)\n",
    "                        if s != None and len(s.group()) > 0:\n",
    "                            group_len = len(s.group())\n",
    "                            if best_len < group_len:\n",
    "                                best_len = group_len\n",
    "                                best_name = dict_name\n",
    "\n",
    "                    if best_len == 0:\n",
    "                        if yeast_name == '- -' or yeast_name == 'default - - -' or '?' in yeast_name or yeast_name == \"deleteme\":\n",
    "                            print(f\"Deleting file with empty/unknown (e.g., '- -') yeast: {file_path}\")\n",
    "                            import shutil\n",
    "                            shutil.copy(file_path, \"./data/_not_matched\")\n",
    "                        else:\n",
    "                            print(f\"No matches for '{yeast_name}', file: {file_path}, deleting...\")\n",
    "                            os.remove(file_path)\n",
    "                        break\n",
    "                    else:\n",
    "                        recipe_valid = True\n",
    "                        #print(f\"Matched '{yeast_name}' with '{best_name}', file: {file_path}\")\n",
    "        if recipe_valid:\n",
    "            valid_file_count += 1\n",
    "            \n",
    "        #for m in recipe.fermentables:\n",
    "        #    if m.type == None:\n",
    "        #        print(f\"Malt type none found in file {file_path}\")\n",
    "        #malts.update([m.name for m in recipe.fermentables])\n",
    "print(f\"Valid files found: {valid_file_count}\")"
   ]
  },
  {
   "cell_type": "code",
   "execution_count": 342,
   "id": "0367afb0-d00d-4676-a887-3b15294d569c",
   "metadata": {},
   "outputs": [],
   "source": [
    "from fermentable_names import build_fermentable_name_dicts\n",
    "fermentable_name_to_id, id_to_fermentable_names = build_fermentable_name_dicts()"
   ]
  },
  {
   "cell_type": "code",
   "execution_count": 343,
   "id": "330fb898-dc5e-4688-a8e5-2ef2af414bda",
   "metadata": {},
   "outputs": [
    {
     "name": "stdout",
     "output_type": "stream",
     "text": [
      "Name not found: Modified name: 'panocha', Original name: 'panocha' in file: ./data/_matched/132/191089.xml\n",
      "Name not found: Modified name: 'kandy cane', Original name: 'kandy cane' in file: ./data/_matched/132/189688.xml\n",
      "Name not found: Modified name: 'bavarian humnovy', Original name: 'bavarian humnovy' in file: ./data/_matched/59/115395.xml\n",
      "Name not found: Modified name: 'rasberry', Original name: 'rasberry' in file: ./data/_matched/104/10664.xml\n",
      "Name not found: Modified name: 'malted einkorn', Original name: 'malted einkorn' in file: ./data/_matched/145/bt_184468.xml\n",
      "Name not found: Modified name: 'best', Original name: 'crisp best (us)' in file: ./data/_matched/7/bt_13433.xml\n",
      "Name not found: Modified name: 'wort', Original name: 'wort' in file: ./data/_matched/7/488969.xml\n",
      "Name not found: Modified name: 'shepherds dlight', Original name: 'shepherds dlight' in file: ./data/_matched/7/355557.xml\n",
      "Name not found: Modified name: 'jantar', Original name: 'simpsons jantar' in file: ./data/_matched/7/bt_13981.xml\n",
      "Name not found: Modified name: 'jantar', Original name: 'simpsons jantar' in file: ./data/_matched/7/bt_87002.xml\n",
      "Name not found: Modified name: 'pasta', Original name: 'pasta' in file: ./data/_matched/7/bt_219034.xml\n",
      "Name not found: Modified name: 'jantar', Original name: 'simpsons jantar' in file: ./data/_matched/7/bt_132622.xml\n",
      "Name not found: Modified name: 'd2', Original name: 'd2' in file: ./data/_matched/21/bt_1355.xml\n"
     ]
    }
   ],
   "source": [
    "dir_count = 0\n",
    "dir_min = 0\n",
    "dir_max = 180\n",
    "\n",
    "for dirpath, dirnames, files in os.walk('./data/_matched'):\n",
    "    dir_count += 1\n",
    "    if dir_count < dir_min: \n",
    "        continue\n",
    "    elif dir_count > dir_max:\n",
    "        break\n",
    "    \n",
    "    for file_name in files:\n",
    "        file_path = str(os.path.join(dirpath, file_name))\n",
    "        try:\n",
    "            recipes = parser.parse(file_path)\n",
    "        except:\n",
    "            print(\"Erroneous file found: \" + file_path)\n",
    "            continue\n",
    "        \n",
    "        for recipe in recipes:\n",
    "            for fermentable in recipe.fermentables:\n",
    "                \n",
    "                f_name = str(fermentable.name).lower()\n",
    "                init_name = f_name\n",
    "                \n",
    "                # Start with some basic clean-up\n",
    "                f_name = f_name.replace(\"carafaâ\",\"carafa\").replace(\"®\",\"\").replace(\"速\",\"\").replace(\"marris\",\"maris\") \\\n",
    "                    .replace(\"roasted oats\",\"malted oats\").replace(\"mdâ„¢\",\"\").replace(\"torrefied\",\"torrified\").replace(\"specl\",\"special\") \\\n",
    "                    .replace(\"carafaz\", \"carafa\").replace(\"kรถlsch\", \"kolsch\").replace(\"©\",\"\").replace(\"ch창teau\", \"chateau\").replace(\"aรงucar\",\"\") \\\n",
    "                    .replace(\"chã¢teau\", \"chateau\")\n",
    "                f_name = re.sub(r\"(\\s{2,})\", \" \", f_name)\n",
    "                f_name = re.sub(r\"[\\'\\\"](w|b)[\\'\\\"]\", r\"\\1\", f_name, flags=re.IGNORECASE)\n",
    "                f_name = re.sub(r\"\\brosted\\b\", \"roasted\", f_name, flags=re.IGNORECASE)\n",
    "                f_name = re.sub(r\"\\bcarmel\\b\", \"caramel\", f_name, flags=re.IGNORECASE)\n",
    "                f_name = re.sub(r\"\\bsirup\\b\", \"syrup\", f_name, flags=re.IGNORECASE)\n",
    "                f_name = re.sub(r\"\\,?\\s*steel\\s*cut\\s*\\(?pinhead\\s*oats\\)?\", \"\", f_name, flags=re.IGNORECASE)\n",
    "                f_name = re.sub(r\"(md)?™\",\"\",f_name,flags=re.IGNORECASE)\n",
    "                f_name = re.sub(r\"(.+)\\s*\\,\\s*(flaked|malted|cooked)\\s*\", r\"\\1 \\2\", f_name, flags=re.IGNORECASE)\n",
    "                f_name = re.sub(r\"\\s*\\((us|de|uk|nz|be|pl|english|british|german|belgian|patent|american)\\)\\s*\", \" \", f_name, flags=re.IGNORECASE)\n",
    "                f_name = re.sub(r\"\\s*(english|german)\\s*\", \"\", f_name, flags=re.IGNORECASE)\n",
    "                f_name = re.sub(r\"(cara\\s+|crystal\\s*/\\s*caramel|caramel\\s*/\\s*crystal|caramel|crystal)(\\s+malts?\\s+\\-?)?\",\"caramel/crystal\", f_name, flags=re.IGNORECASE)\n",
    "                f_name = re.sub(r\"\\s*\\(?(bob'?s\\s*mills|homemade|malting|cal\\s*rose|cargill|((green|black|gold)\\s?)?swaen|munton'?s?|warminster|biscoff|patagonia|global malt|thomas\\s*fawcett|crisp|best\\s*(malz|maltz)|simpsons?|valley\\s*(malt)?|briess|bairds|gladfield'?s?|château|chateau|castle|dingemans|brewers\\s+malt|rahr|organic|dehusked)\\)?\\s*\\-*\\s*\", \" \", f_name, flags=re.IGNORECASE)\n",
    "                f_name = re.sub(r\"\\(?\\d+\\s+(ebc|lovibond)\\)?\\:?\", \"\", f_name, flags=re.IGNORECASE)\n",
    "                \n",
    "                f_name = f_name.replace(\",\",\"\").strip()\n",
    "                \n",
    "                if f_name in fermentable_name_to_id:\n",
    "                    continue\n",
    "                    \n",
    "                # Try adding \"malt\" to the end\n",
    "                if f_name+\" malt\" in fermentable_name_to_id:\n",
    "                    continue\n",
    "                # Try removing \"malt\" from the end\n",
    "                if re.sub(r\"\\s*malt\", \"\", f_name, flags=re.IGNORECASE) in fermentable_name_to_id:\n",
    "                    continue\n",
    "                \n",
    "                best_len_s1 = 0\n",
    "                best_id_s1  = -1\n",
    "                best_len_s2 = 0\n",
    "                best_id_s2  = -1\n",
    "                for dict_name, dict_id in fermentable_name_to_id.items():\n",
    "                    name_opts = \"(\" + dict_name + \")\"\n",
    "                    s1 = re.search(name_opts, f_name)\n",
    "                    if s1 != None and len(s1.group()) > 0:\n",
    "                        group_len = len(s1.group())\n",
    "                        if best_len_s1 < group_len:\n",
    "                            best_len_s1 = group_len\n",
    "                            best_id_s1  = dict_id\n",
    "                            break # TODO: Get rid of this\n",
    "                    else:\n",
    "                        s2 = re.search(name_opts, init_name)\n",
    "                        if s2 != None and len(s2.group()) > 0:\n",
    "                            group_len = len(s2.group())\n",
    "                            if best_len_s2 < group_len:\n",
    "                                best_len_s2 = group_len\n",
    "                                best_id_s2  = dict_id\n",
    "                                break # TODO: Get rid of this\n",
    "\n",
    "                if best_len_s1 == 0 and best_len_s2 == 0:\n",
    "                    print(f\"Name not found: Modified name: '{f_name}', Original name: '{init_name}' in file: {file_path}\") \n",
    "        "
   ]
  },
  {
   "cell_type": "code",
   "execution_count": 1,
   "id": "c009d5c0-265c-496d-a819-a2465adfa7a3",
   "metadata": {},
   "outputs": [],
   "source": [
    "from hop_names import build_hop_name_dicts\n",
    "hop_name_to_id, id_to_hop_names = build_hop_name_dicts()"
   ]
  },
  {
   "cell_type": "code",
   "execution_count": 403,
   "id": "7b2359dd-aea1-49e1-8914-7e6911e18de3",
   "metadata": {},
   "outputs": [
    {
     "name": "stdout",
     "output_type": "stream",
     "text": [
      "Name not found: Modified name: 'dried meadowsweet', Original name: 'dried meadowsweet' in file: ./data/_matched/68/212873.xml\n",
      "Name not found: Modified name: 'dried meadowsweet', Original name: 'dried meadowsweet' in file: ./data/_matched/68/212873.xml\n",
      "Name not found: Modified name: 'oak chips medium', Original name: 'oak chips medium' in file: ./data/_matched/68/212873.xml\n",
      "Name not found: Modified name: 'lemongrass', Original name: 'lemongrass' in file: ./data/_matched/68/212873.xml\n",
      "Name not found: Modified name: 'clementine peel', Original name: 'clementine peel' in file: ./data/_matched/68/473226.xml\n",
      "Name not found: Modified name: 'young´s', Original name: 'young´s' in file: ./data/_matched/157/533352.xml\n",
      "Name not found: Modified name: 'wet hops', Original name: 'wet hops' in file: ./data/_matched/157/bt_16970.xml\n",
      "Name not found: Modified name: 'deleteme', Original name: 'deleteme' in file: ./data/_matched/157/bt_177141.xml\n",
      "Name not found: Modified name: 'bitter bite', Original name: 'bitter bite' in file: ./data/_matched/150/459219.xml\n",
      "Name not found: Modified name: 'matt hops', Original name: 'matt hops' in file: ./data/_matched/150/312245.xml\n",
      "Name not found: Modified name: 'prima donna', Original name: 'prima donna' in file: ./data/_matched/159/405727.xml\n",
      "Name not found: Modified name: 'prima donna', Original name: 'prima donna' in file: ./data/_matched/159/405727.xml\n",
      "Name not found: Modified name: 'prima donna', Original name: 'prima donna' in file: ./data/_matched/159/405727.xml\n",
      "Name not found: Modified name: 'wild grown hops', Original name: 'wild grown hops' in file: ./data/_matched/159/431484.xml\n",
      "Name not found: Modified name: 'h3', Original name: 'h3' in file: ./data/_matched/159/318453.xml\n",
      "Name not found: Modified name: 'new fermentor', Original name: 'new fermentor' in file: ./data/_matched/159/297564.xml\n",
      "Name not found: Modified name: 'secret garden', Original name: 'secret garden' in file: ./data/_matched/159/342822.xml\n",
      "Name not found: Modified name: 'secret garden', Original name: 'secret garden' in file: ./data/_matched/159/342822.xml\n",
      "Name not found: Modified name: 'secret garden', Original name: 'secret garden' in file: ./data/_matched/159/342822.xml\n",
      "Name not found: Modified name: 'prima donna', Original name: 'prima donna' in file: ./data/_matched/159/503106.xml\n",
      "Name not found: Modified name: 'prima donna', Original name: 'prima donna' in file: ./data/_matched/159/503106.xml\n",
      "Name not found: Modified name: 'prima donna', Original name: 'prima donna' in file: ./data/_matched/159/503106.xml\n",
      "Name not found: Modified name: 'hl alvdal (n3)', Original name: 'hl alvdal (n3)' in file: ./data/_matched/32/569890.xml\n",
      "Name not found: Modified name: 'unk', Original name: 'unk' in file: ./data/_matched/35/492942.xml\n",
      "Name not found: Modified name: 'unk', Original name: 'unk' in file: ./data/_matched/35/492942.xml\n",
      "Name not found: Modified name: 'unk', Original name: 'unk' in file: ./data/_matched/35/492942.xml\n",
      "Name not found: Modified name: 'custom', Original name: 'custom' in file: ./data/_matched/35/462654.xml\n",
      "Name not found: Modified name: 'custom', Original name: 'custom' in file: ./data/_matched/35/462654.xml\n",
      "Name not found: Modified name: 'custom', Original name: 'custom' in file: ./data/_matched/35/462654.xml\n",
      "Name not found: Modified name: 'alfa', Original name: 'alfa' in file: ./data/_matched/35/558987.xml\n",
      "Name not found: Modified name: 'lechonia wild', Original name: 'lechonia wild' in file: ./data/_matched/35/315274.xml\n",
      "Name not found: Modified name: 'lechonia wild', Original name: 'lechonia wild' in file: ./data/_matched/35/315274.xml\n",
      "Name not found: Modified name: 'lechonia wild', Original name: 'lechonia wild' in file: ./data/_matched/35/315274.xml\n",
      "Name not found: Modified name: 'bertwell', Original name: 'bertwell' in file: ./data/_matched/35/488079.xml\n",
      "Name not found: Modified name: 'bertwell', Original name: 'bertwell' in file: ./data/_matched/35/488079.xml\n",
      "Name not found: Modified name: 'bertwell', Original name: 'bertwell' in file: ./data/_matched/35/488079.xml\n",
      "Name not found: Modified name: 'choice debittered', Original name: 'choice debittered' in file: ./data/_matched/35/505167.xml\n"
     ]
    }
   ],
   "source": [
    "dir_count = 0\n",
    "dir_min = 10\n",
    "dir_max = 20\n",
    "\n",
    "for dirpath, dirnames, files in os.walk('./data/_matched'):\n",
    "    dir_count += 1\n",
    "    if dir_count < dir_min: \n",
    "        continue\n",
    "    elif dir_count > dir_max:\n",
    "        break\n",
    "    \n",
    "    for file_name in files:\n",
    "        file_path = str(os.path.join(dirpath, file_name))\n",
    "        try:\n",
    "            recipes = parser.parse(file_path)\n",
    "        except:\n",
    "            print(\"Erroneous file found: \" + file_path)\n",
    "            continue\n",
    "        \n",
    "        for recipe in recipes:\n",
    "            for hop in recipe.hops:\n",
    "                h_name = str(hop.name).lower().strip()\n",
    "                init_name = h_name\n",
    "                \n",
    "                h_name = h_name.replace(\"u.s.\",\"us\")\n",
    "                h_name = re.sub(r\"(uk kent(\\s*goldings?)?|kent holdings)\", \"east kent goldings\", h_name)\n",
    "                h_name = re.sub(r\"(\\(?(\\d+\\.?\\d*%\\s*aa|™|â„¢|t\\-?90|\\s*organic|yakima(\\s*valley\\s?\\-?)?|ychhops|,|bmw|lambic|frech)\\)?)\", \"\", h_name)\n",
    "                h_name = re.sub(r\"(\\s{2,})\", \" \", h_name) # Clean up extra spacing\n",
    "                h_name = re.sub(r\"(mittelfr端h|mittelfrã¼h|mittelfruh|mittlefruh)\", r\"mittlefrüh\", h_name, flags=re.IGNORECASE)\n",
    "                h_name = h_name.strip()\n",
    "                \n",
    "                if h_name in hop_name_to_id:\n",
    "                    continue\n",
    "                \n",
    "                best_len_s1 = 0\n",
    "                best_id_s1  = -1\n",
    "                best_len_s2 = 0\n",
    "                best_id_s2  = -1\n",
    "                for dict_name, dict_id in hop_name_to_id.items():\n",
    "                    name_opts = \"(\" + dict_name + \")\"\n",
    "                    s1 = re.search(name_opts, h_name)\n",
    "                    if s1 != None and len(s1.group()) > 0:\n",
    "                        group_len = len(s1.group())\n",
    "                        if best_len_s1 < group_len:\n",
    "                            best_len_s1 = group_len\n",
    "                            best_id_s1  = dict_id\n",
    "                            break # TODO: Get rid of this\n",
    "                    else:\n",
    "                        s2 = re.search(name_opts, init_name)\n",
    "                        if s2 != None and len(s2.group()) > 0:\n",
    "                            group_len = len(s2.group())\n",
    "                            if best_len_s2 < group_len:\n",
    "                                best_len_s2 = group_len\n",
    "                                best_id_s2  = dict_id\n",
    "                                break # TODO: Get rid of this\n",
    "\n",
    "                if best_len_s1 == 0 and best_len_s2 == 0:\n",
    "                    print(f\"Name not found: Modified name: '{h_name}', Original name: '{init_name}' in file: {file_path}\") \n",
    "                "
   ]
  },
  {
   "cell_type": "code",
   "execution_count": 80,
   "id": "c6da7c72",
   "metadata": {
    "collapsed": true,
    "jupyter": {
     "outputs_hidden": true
    }
   },
   "outputs": [
    {
     "data": {
      "image/png": "[encoded data removed]",
      "text/plain": [
       "<Figure size 432x288 with 2 Axes>"
      ]
     },
     "metadata": {
      "needs_background": "light"
     },
     "output_type": "display_data"
    }
   ],
   "source": [
    "fig, (ax1, ax2) = plt.subplots(1, 2)\n",
    "ax1.hist(ogs, bins=50, range=(1.0, 1.1));\n",
    "ax2.hist(fgs, bins=20, range=(1.0, 1.03));"
   ]
  },
  {
   "cell_type": "code",
   "execution_count": 86,
   "id": "a1bcc931",
   "metadata": {
    "collapsed": true,
    "jupyter": {
     "outputs_hidden": true
    }
   },
   "outputs": [
    {
     "name": "stdout",
     "output_type": "stream",
     "text": [
      "1.053665150888797 0.009690755932266558\n",
      "1.0119204905608377 0.0032176378292414834\n"
     ]
    }
   ],
   "source": [
    "ogs = np.array(ogs)\n",
    "fgs = np.array(fgs)\n",
    "print(ogs.mean(), ogs.std())\n",
    "print(fgs.mean(), fgs.std())"
   ]
  },
  {
   "cell_type": "code",
   "execution_count": 88,
   "id": "47d14095",
   "metadata": {
    "collapsed": true,
    "jupyter": {
     "outputs_hidden": true
    }
   },
   "outputs": [
    {
     "name": "stdout",
     "output_type": "stream",
     "text": [
      "-7.0745852793642054e-15 1.0\n",
      "3.3299653359791936e-14 1.0\n"
     ]
    }
   ],
   "source": [
    "n_ogs = (ogs - ogs.mean()) / ogs.std()\n",
    "n_fgs = (fgs - fgs.mean()) / fgs.std()\n",
    "print(n_ogs.mean(), n_ogs.std())\n",
    "print(n_fgs.mean(), n_fgs.std())"
   ]
  }
 ],
 "metadata": {
  "kernelspec": {
   "display_name": "Python 3.9.13 64-bit",
   "language": "python",
   "name": "python3"
  },
  "language_info": {
   "codemirror_mode": {
    "name": "ipython",
    "version": 3
   },
   "file_extension": ".py",
   "mimetype": "text/x-python",
   "name": "python",
   "nbconvert_exporter": "python",
   "pygments_lexer": "ipython3",
   "version": "3.9.13"
  },
  "vscode": {
   "interpreter": {
    "hash": "aee8b7b246df8f9039afb4144a1f6fd8d2ca17a180786b69acc140d282b71a49"
   }
  }
 },
 "nbformat": 4,
 "nbformat_minor": 5
}
