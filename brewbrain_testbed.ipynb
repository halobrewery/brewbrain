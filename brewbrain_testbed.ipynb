{
 "cells": [
  {
   "cell_type": "code",
   "execution_count": 298,
   "id": "71e7dc88",
   "metadata": {
    "tags": []
   },
   "outputs": [],
   "source": [
    "import os\n",
    "import re\n",
    "import matplotlib.pyplot as plt\n",
    "import numpy as np\n",
    "\n",
    "from sqlalchemy import create_engine\n",
    "from sqlalchemy.orm import Session\n",
    "from sqlalchemy import select\n",
    "\n",
    "from db_scripts.brewbrain_db import BREWBRAIN_DB_ENGINE_STR, Base, Grain, CoreGrain, RecipeML\n",
    "from beer_util_functions import coarsegrindasis_to_pkl"
   ]
  },
  {
   "cell_type": "code",
   "execution_count": null,
   "id": "1ff8caa4",
   "metadata": {},
   "outputs": [],
   "source": [
    "def mash_point_liters(grainATs, efficiency):\n",
    "  \"\"\"Calculate the total point-liters from all the given grains in a mash accounting for brewhouse efficiency.\n",
    "  Args:\n",
    "    grainATs (List[RecipeMLGrainAT]): A list of all Recipe-to-Grain Association Table entries for the recipe.\n",
    "    efficiency (float): The brewhouse efficiency as a percentage in [0,1].\n",
    "  Returns:\n",
    "    float: The total point-liters contributed by the mash.\n",
    "  \"\"\"\n",
    "  kg_total = 0.0\n",
    "  pkl_total  = 0.0\n",
    "  for grainAT in grainATs:\n",
    "    kg_total += grainAT.amount\n",
    "    coarse_grid_as_is = grainAT.calc_coarse_grid_as_is()\n",
    "    pkl_total += coarsegrindasis_to_pkl(coarse_grid_as_is)\n",
    "  return pkl_total * kg_total * efficiency # (points/kg/L) * Kg * efficiency = (points*L)\n",
    "\n",
    "def mash_points(mash_point_liters, volume_l):\n",
    "  \"\"\"Calculate the total points of a mash at a given volume in Liters.\n",
    "  Args:\n",
    "    mash_point_liters (float): The total point-liters contributed by the mash.\n",
    "    volume_l (float): The volume to calculate the points at (typically pre-boil volume), in Liters.\n",
    "  Returns:\n",
    "    float: The total points contributed by the mash for the given volume.\n",
    "  \"\"\"\n",
    "  return mash_point_liters / volume_l"
   ]
  },
  {
   "cell_type": "code",
   "execution_count": null,
   "id": "fc775a06",
   "metadata": {},
   "outputs": [],
   "source": [
    "'''\n",
    "engine = create_engine(BREWBRAIN_DB_ENGINE_STR, echo=False, future=True)\n",
    "Base.metadata.create_all(engine)\n",
    "\n",
    "# Fast test for basic recipe calculations\n",
    "with Session(engine) as session:\n",
    "  recipe = session.scalars(select(RecipeML).filter_by(RecipeML.style.core_style.id == 1)).first()\n",
    "  \n",
    "  # Mash contributions\n",
    "  mash_ptliters = mash_point_liters(recipe.grains, recipe.efficiency)\n",
    "  preboil_mash_pts = mash_points(mash_ptliters, recipe.preboil_vol)\n",
    "  \n",
    "  # Adjunct contributions...\n",
    "  # TODO: We will need to determine where specific adjuncts are added\n",
    "  # Stages: Mash, Post-boil, Fermenter\n",
    "  for adjunctAT in recipe.adjuncts:\n",
    "    if adjunctAT.stage\n",
    "'''\n",
    "  "
   ]
  }
 ],
 "metadata": {
  "kernelspec": {
   "display_name": "Python 3.9.13 64-bit",
   "language": "python",
   "name": "python3"
  },
  "language_info": {
   "codemirror_mode": {
    "name": "ipython",
    "version": 3
   },
   "file_extension": ".py",
   "mimetype": "text/x-python",
   "name": "python",
   "nbconvert_exporter": "python",
   "pygments_lexer": "ipython3",
   "version": "3.9.13"
  },
  "vscode": {
   "interpreter": {
    "hash": "aee8b7b246df8f9039afb4144a1f6fd8d2ca17a180786b69acc140d282b71a49"
   }
  }
 },
 "nbformat": 4,
 "nbformat_minor": 5
}
