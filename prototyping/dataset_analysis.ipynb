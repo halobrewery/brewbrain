{
 "cells": [
  {
   "cell_type": "code",
   "execution_count": 2,
   "metadata": {},
   "outputs": [],
   "source": [
    "import os\n",
    "import sys\n",
    "import random\n",
    "\n",
    "sys.path.append(os.path.dirname(os.getcwd()))\n",
    "\n",
    "import numpy as np\n",
    "%matplotlib inline\n",
    "import matplotlib.pyplot as plt\n",
    "\n",
    "from file_utils import find_file_cwd_and_parent_dirs\n",
    "from recipe_dataset import RecipeDataset, RECIPE_DATASET_FILENAME, load_dataset\n",
    "from brewbrain import init_rng_seeding\n",
    "\n",
    "init_rng_seeding(42)"
   ]
  },
  {
   "cell_type": "code",
   "execution_count": 8,
   "metadata": {},
   "outputs": [
    {
     "name": "stdout",
     "output_type": "stream",
     "text": [
      "Loading mappings from ../recipe_dataset.pkl...\n"
     ]
    }
   ],
   "source": [
    "dataset = load_dataset(find_file_cwd_and_parent_dirs(RECIPE_DATASET_FILENAME, \"..\"))"
   ]
  },
  {
   "cell_type": "code",
   "execution_count": 24,
   "metadata": {},
   "outputs": [],
   "source": [
    "# Box plots for quantities/concentrations of Hops, Adjuncts, and Misc\n",
    "\n",
    "hop_concentrations = np.concatenate([r['hop_concentrations'][r['hop_type_inds'] != 0] for r in dataset.recipes])\n",
    "adjunct_amts = np.concatenate([r['adjunct_amts'][r['adjunct_core_type_inds'] != 0] for r in dataset.recipes])\n",
    "misc_amts = np.concatenate([r['misc_amts'][r['misc_type_inds'] != 0] for r in dataset.recipes])"
   ]
  },
  {
   "cell_type": "code",
   "execution_count": 25,
   "metadata": {},
   "outputs": [
    {
     "name": "stdout",
     "output_type": "stream",
     "text": [
      "Hop outliers (above 2.7233247458934784): 50645\n",
      "Adjunct outliers (above 97.6107726097107): 9998\n",
      "Misc. outliers (above 131.64253771677613): 0\n"
     ]
    }
   ],
   "source": [
    "# Find outliers using IQR\n",
    "hop_q3, hop_q1 = np.percentile(hop_concentrations, [75,25])\n",
    "hop_iqr = hop_q3 - hop_q1\n",
    "hop_outlier_wall = hop_q3 + 1.5*hop_iqr\n",
    "outlier_hop_recipes = len([r for r in dataset.recipes if np.any(r['hop_concentrations'] > hop_outlier_wall)])\n",
    "print(f\"Hop outliers (above {hop_outlier_wall}): {outlier_hop_recipes}\")\n",
    "\n",
    "adjunct_q3, adjunct_q1 = np.percentile(adjunct_amts, [75,25])\n",
    "adjunct_iqr = adjunct_q3 - adjunct_q1\n",
    "adjunct_outlier_wall = adjunct_q3 + 1.5*adjunct_iqr\n",
    "outlier_adj_recipes = len([r for r in dataset.recipes if np.any(r['adjunct_amts'] > adjunct_outlier_wall)])\n",
    "print(f\"Adjunct outliers (above {adjunct_outlier_wall}): {outlier_adj_recipes}\")\n",
    "\n",
    "misc_q3, misc_q1 = np.percentile(misc_amts, [75, 25])\n",
    "misc_iqr = misc_q3 - misc_q1\n",
    "misc_outlier_wall = misc_q3 + 1.5*misc_iqr\n",
    "outlier_misc_recipes = len([r for r in dataset.recipes if np.any(r['misc_amts'] > misc_outlier_wall)])\n",
    "print(f\"Misc. outliers (above {misc_outlier_wall}): {outlier_misc_recipes}\")\n"
   ]
  },
  {
   "cell_type": "code",
   "execution_count": 26,
   "metadata": {},
   "outputs": [
    {
     "data": {
      "text/plain": [
       "{'whiskers': [<matplotlib.lines.Line2D at 0x7fe62cac09d0>,\n",
       "  <matplotlib.lines.Line2D at 0x7fe62cac0c70>,\n",
       "  <matplotlib.lines.Line2D at 0x7fe62cac1c30>,\n",
       "  <matplotlib.lines.Line2D at 0x7fe62cac3340>,\n",
       "  <matplotlib.lines.Line2D at 0x7fe62caa6f80>,\n",
       "  <matplotlib.lines.Line2D at 0x7fe62cabe440>],\n",
       " 'caps': [<matplotlib.lines.Line2D at 0x7fe62cac0f10>,\n",
       "  <matplotlib.lines.Line2D at 0x7fe62cac11b0>,\n",
       "  <matplotlib.lines.Line2D at 0x7fe62caea800>,\n",
       "  <matplotlib.lines.Line2D at 0x7fe62cb1dcc0>,\n",
       "  <matplotlib.lines.Line2D at 0x7fe62cabeec0>,\n",
       "  <matplotlib.lines.Line2D at 0x7fe62cabf3d0>],\n",
       " 'boxes': [<matplotlib.lines.Line2D at 0x7fe62c4a8190>,\n",
       "  <matplotlib.lines.Line2D at 0x7fe62cac1990>,\n",
       "  <matplotlib.lines.Line2D at 0x7fe62ca73ac0>],\n",
       " 'medians': [<matplotlib.lines.Line2D at 0x7fe62cac1450>,\n",
       "  <matplotlib.lines.Line2D at 0x7fe62cb45180>,\n",
       "  <matplotlib.lines.Line2D at 0x7fe62cabf670>],\n",
       " 'fliers': [<matplotlib.lines.Line2D at 0x7fe62cac16f0>,\n",
       "  <matplotlib.lines.Line2D at 0x7fe62ca70640>,\n",
       "  <matplotlib.lines.Line2D at 0x7fe62cabf910>],\n",
       " 'means': []}"
      ]
     },
     "execution_count": 26,
     "metadata": {},
     "output_type": "execute_result"
    },
    {
     "data": {
      "image/png": "[encoded data removed]",
      "text/plain": [
       "<Figure size 640x480 with 1 Axes>"
      ]
     },
     "metadata": {},
     "output_type": "display_data"
    }
   ],
   "source": [
    "fig, ax = plt.subplots()\n",
    "ax.boxplot([hop_concentrations, adjunct_amts, misc_amts])"
   ]
  },
  {
   "cell_type": "code",
   "execution_count": 9,
   "metadata": {},
   "outputs": [
    {
     "name": "stdout",
     "output_type": "stream",
     "text": [
      "0\n"
     ]
    }
   ],
   "source": [
    "# Count number of recipes with more than 16 hops slots taken up\n",
    "high_misc_recipes = [r for r in dataset.recipes if np.count_nonzero(r['misc_type_inds']) > 8]\n",
    "print(len(high_misc_recipes))"
   ]
  }
 ],
 "metadata": {
  "kernelspec": {
   "display_name": "brewbrain",
   "language": "python",
   "name": "python3"
  },
  "language_info": {
   "codemirror_mode": {
    "name": "ipython",
    "version": 3
   },
   "file_extension": ".py",
   "mimetype": "text/x-python",
   "name": "python",
   "nbconvert_exporter": "python",
   "pygments_lexer": "ipython3",
   "version": "3.10.8"
  },
  "orig_nbformat": 4,
  "vscode": {
   "interpreter": {
    "hash": "8f2e67b2e1dd515279f438694bfff88fe430fda25357a6c446b9da09bb563da9"
   }
  }
 },
 "nbformat": 4,
 "nbformat_minor": 2
}
