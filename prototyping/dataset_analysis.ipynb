{
 "cells": [
  {
   "cell_type": "code",
   "execution_count": 12,
   "metadata": {},
   "outputs": [],
   "source": [
    "import os\n",
    "import sys\n",
    "import random\n",
    "\n",
    "sys.path.append(os.path.dirname(os.getcwd()))\n",
    "\n",
    "import numpy as np\n",
    "%matplotlib inline\n",
    "import matplotlib.pyplot as plt\n",
    "\n",
    "from file_utils import find_file_cwd_and_parent_dirs\n",
    "from recipe_dataset import RecipeDataset, RECIPE_DATASET_FILENAME, load_dataset\n",
    "from brewbrain import init_rng_seeding\n",
    "\n",
    "init_rng_seeding(42)"
   ]
  },
  {
   "cell_type": "code",
   "execution_count": 13,
   "metadata": {},
   "outputs": [
    {
     "name": "stdout",
     "output_type": "stream",
     "text": [
      "Loading mappings from ../recipe_dataset.pkl...\n"
     ]
    }
   ],
   "source": [
    "dataset = load_dataset(find_file_cwd_and_parent_dirs(RECIPE_DATASET_FILENAME, \"..\"))"
   ]
  },
  {
   "cell_type": "code",
   "execution_count": 14,
   "metadata": {},
   "outputs": [],
   "source": [
    "# Box plots for quantities/concentrations of Hops, Adjuncts, and Misc\n",
    "\n",
    "hop_concentrations = np.concatenate([r['hop_concentrations'][r['hop_type_inds'] != 0] for r in dataset.recipes])\n",
    "adjunct_amts = np.concatenate([r['adjunct_amts'][r['adjunct_core_type_inds'] != 0] for r in dataset.recipes])\n",
    "misc_amts = np.concatenate([r['misc_amts'][r['misc_type_inds'] != 0] for r in dataset.recipes])"
   ]
  },
  {
   "cell_type": "code",
   "execution_count": 21,
   "metadata": {},
   "outputs": [
    {
     "name": "stdout",
     "output_type": "stream",
     "text": [
      "Hop outliers: 50645\n",
      "Adjunct outliers: 9998\n",
      "Misc. outliers: 4149\n"
     ]
    }
   ],
   "source": [
    "# Find outliers using IQR\n",
    "hop_q3, hop_q1 = np.percentile(hop_concentrations, [75,25])\n",
    "hop_iqr = hop_q3 - hop_q1\n",
    "hop_outlier_wall = hop_q3 + 1.5*hop_iqr\n",
    "outlier_hop_recipes = len([r for r in dataset.recipes if np.any(r['hop_concentrations'] > hop_outlier_wall)])\n",
    "print(f\"Hop outliers (above {hop_outlier_wall}): {outlier_hop_recipes}\")\n",
    "\n",
    "adjunct_q3, adjunct_q1 = np.percentile(adjunct_amts, [75,25])\n",
    "adjunct_iqr = adjunct_q3 - adjunct_q1\n",
    "adjunct_outlier_wall = adjunct_q3 + 1.5*adjunct_iqr\n",
    "outlier_adj_recipes = len([r for r in dataset.recipes if np.any(r['adjunct_amts'] > adjunct_outlier_wall)])\n",
    "print(f\"Adjunct outliers (above {adjunct_outlier_wall}): {outlier_adj_recipes}\")\n",
    "\n",
    "misc_q3, misc_q1 = np.percentile(misc_amts, [75, 25])\n",
    "misc_iqr = misc_q3 - misc_q1\n",
    "misc_outlier_wall = misc_q3 + 1.5*misc_iqr\n",
    "outlier_misc_recipes = len([r for r in dataset.recipes if np.any(r['misc_amts'] > misc_outlier_wall)])\n",
    "print(f\"Misc. outliers (above {misc_outlier_wall}): {outlier_misc_recipes}\")\n"
   ]
  },
  {
   "cell_type": "code",
   "execution_count": 16,
   "metadata": {},
   "outputs": [
    {
     "name": "stdout",
     "output_type": "stream",
     "text": [
      "0\n",
      "0\n",
      "0\n"
     ]
    },
    {
     "data": {
      "text/plain": [
       "{'whiskers': [<matplotlib.lines.Line2D at 0x7fe62c501bd0>,\n",
       "  <matplotlib.lines.Line2D at 0x7fe62c501ed0>,\n",
       "  <matplotlib.lines.Line2D at 0x7fe62c5027a0>,\n",
       "  <matplotlib.lines.Line2D at 0x7fe62c502a40>,\n",
       "  <matplotlib.lines.Line2D at 0x7fe62c503ac0>,\n",
       "  <matplotlib.lines.Line2D at 0x7fe62c503dc0>],\n",
       " 'caps': [<matplotlib.lines.Line2D at 0x7fe62c502170>,\n",
       "  <matplotlib.lines.Line2D at 0x7fe62c502410>,\n",
       "  <matplotlib.lines.Line2D at 0x7fe62c502d40>,\n",
       "  <matplotlib.lines.Line2D at 0x7fe62c502fe0>,\n",
       "  <matplotlib.lines.Line2D at 0x7fe64d459a20>,\n",
       "  <matplotlib.lines.Line2D at 0x7fe62c49bb20>],\n",
       " 'boxes': [<matplotlib.lines.Line2D at 0x7fe62c501930>,\n",
       "  <matplotlib.lines.Line2D at 0x7fe62c5025c0>,\n",
       "  <matplotlib.lines.Line2D at 0x7fe62c503820>],\n",
       " 'medians': [<matplotlib.lines.Line2D at 0x7fe62c4cf9a0>,\n",
       "  <matplotlib.lines.Line2D at 0x7fe62c503280>,\n",
       "  <matplotlib.lines.Line2D at 0x7fe62c49be20>],\n",
       " 'fliers': [<matplotlib.lines.Line2D at 0x7fe6ebf666b0>,\n",
       "  <matplotlib.lines.Line2D at 0x7fe62c503580>,\n",
       "  <matplotlib.lines.Line2D at 0x7fe62c49b3a0>],\n",
       " 'means': []}"
      ]
     },
     "execution_count": 16,
     "metadata": {},
     "output_type": "execute_result"
    },
    {
     "data": {
      "image/png": "[encoded data removed]",
      "text/plain": [
       "<Figure size 640x480 with 1 Axes>"
      ]
     },
     "metadata": {},
     "output_type": "display_data"
    }
   ],
   "source": [
    "fig, ax = plt.subplots()\n",
    "ax.boxplot([hop_concentrations, adjunct_amts, misc_amts])"
   ]
  }
 ],
 "metadata": {
  "kernelspec": {
   "display_name": "brewbrain",
   "language": "python",
   "name": "python3"
  },
  "language_info": {
   "codemirror_mode": {
    "name": "ipython",
    "version": 3
   },
   "file_extension": ".py",
   "mimetype": "text/x-python",
   "name": "python",
   "nbconvert_exporter": "python",
   "pygments_lexer": "ipython3",
   "version": "3.10.8"
  },
  "orig_nbformat": 4,
  "vscode": {
   "interpreter": {
    "hash": "8f2e67b2e1dd515279f438694bfff88fe430fda25357a6c446b9da09bb563da9"
   }
  }
 },
 "nbformat": 4,
 "nbformat_minor": 2
}
